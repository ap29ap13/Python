{
 "cells": [
  {
   "cell_type": "code",
   "execution_count": 1,
   "id": "5bccdb57-c25e-4681-b12a-a1438bd3bc16",
   "metadata": {},
   "outputs": [],
   "source": [
    "# The project uses the below mentioned Python concepts to prepare data for the analysis of book read by a certain reader.\n",
    "#\tPython standard library and pandas\n",
    "#\tLists, loops, conditional statements, functions\n",
    "#\tData preparing in pandas (filtering rows and columns, renaming columns)\n",
    "#\tImport from and export to Excel files"
   ]
  },
  {
   "cell_type": "code",
   "execution_count": 2,
   "id": "7c24e5ee-5097-4ecc-9e49-222c5e10b2dd",
   "metadata": {},
   "outputs": [],
   "source": [
    "import pandas as pd\n",
    "from datetime import date\n",
    "\n",
    "filepath_r = \"Książki_FaktyczniePrzeczytane.xlsx\"\n",
    "filepath_w = \"Books_analysis.xlsx\""
   ]
  },
  {
   "cell_type": "code",
   "execution_count": 3,
   "id": "485670e8-1b50-4465-8f34-5df1e5c0ab11",
   "metadata": {},
   "outputs": [],
   "source": [
    "# Get the current year\n",
    "current_date = date.today()\n",
    "current_year = current_date.year\n",
    "\n",
    "# Create a list with range function \n",
    "\n",
    "sheet_list = []\n",
    "header_list = []\n",
    "maxlist = current_year + 1- 2018\n",
    "\n",
    "for i in range(0, maxlist): \n",
    "    sheet_list.append(str(i + 2018))"
   ]
  },
  {
   "cell_type": "code",
   "execution_count": 4,
   "id": "5705a495-7783-499b-a4f2-a9a115502636",
   "metadata": {},
   "outputs": [],
   "source": [
    "df = pd.DataFrame() \n",
    "\n",
    "for s in range(0,maxlist):\n",
    "# Conditional statements\n",
    "    if s + 2018 <= 2022:\n",
    "        headers = 1\n",
    "    else:\n",
    "        headers=0\n",
    "    df = pd.concat([df, pd.read_excel(filepath_r, sheet_name=sheet_list[s], header=headers).\n",
    "                        assign(year_read=sheet_list[s])], \n",
    "                       ignore_index= True) \n",
    "    s=+1"
   ]
  },
  {
   "cell_type": "code",
   "execution_count": 5,
   "id": "c614ef18-3f9c-469c-aac4-2b5d5be5266f",
   "metadata": {},
   "outputs": [],
   "source": [
    "# Data cleaning with pandas\n",
    "df = df.query('Kolejność > 0') \n",
    "df = df.loc[~df['Kategoria'].isin(['rozwój psychologiczny','inne'])]\n",
    "df = df.drop(['Data', 'Kategoria dokładna', 'Komentarz', 'Komentarze'], axis=1)\n",
    "df = df.rename(columns = {\n",
    "    'Kolejność': 'order',\n",
    "    'Miesiąc': 'month',\n",
    "    'Tytuł w języku czytania': 'title',\n",
    "    'Autor' : 'author',\n",
    "    'Kategoria' : 'category',\n",
    "    'język czytania' : 'language',\n",
    "    'ocena jak w Goodreads' : 'ranking',\n",
    "    'przybliżona długość' : 'approx_pages'\n",
    "})\n",
    "\n",
    "cols = df.columns.tolist()\n",
    "df['year_int'] = pd.to_numeric(df['year_read'])\n",
    "\n",
    "df = df[['year_int','order', 'month', 'title', 'author', 'category', 'language', 'ranking', 'approx_pages']]"
   ]
  },
  {
   "cell_type": "code",
   "execution_count": 6,
   "id": "2865fe81-60a4-45d0-b94c-869cbc5aab7e",
   "metadata": {},
   "outputs": [],
   "source": [
    "# Export data to Excel\n",
    "df.to_excel(filepath_w)  "
   ]
  }
 ],
 "metadata": {
  "kernelspec": {
   "display_name": "Python 3 (ipykernel)",
   "language": "python",
   "name": "python3"
  },
  "language_info": {
   "codemirror_mode": {
    "name": "ipython",
    "version": 3
   },
   "file_extension": ".py",
   "mimetype": "text/x-python",
   "name": "python",
   "nbconvert_exporter": "python",
   "pygments_lexer": "ipython3",
   "version": "3.12.4"
  }
 },
 "nbformat": 4,
 "nbformat_minor": 5
}
